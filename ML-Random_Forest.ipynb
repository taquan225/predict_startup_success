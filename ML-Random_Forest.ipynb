{
 "cells": [
  {
   "cell_type": "code",
   "execution_count": 86,
   "id": "cb55f01b-e6bc-482d-9ca7-89c969395a79",
   "metadata": {},
   "outputs": [],
   "source": [
    "from sklearn.model_selection import train_test_split\n",
    "from sklearn.ensemble import RandomForestClassifier\n",
    "from sklearn import preprocessing\n",
    "from sklearn import metrics\n",
    "import pandas as pd\n",
    "import numpy as np"
   ]
  },
  {
   "cell_type": "code",
   "execution_count": 66,
   "id": "c0f9331b-4a8f-4457-a79a-369f59c69886",
   "metadata": {},
   "outputs": [],
   "source": [
    "df = pd.read_csv(r\"preprocessed_data.csv\")"
   ]
  },
  {
   "cell_type": "code",
   "execution_count": 67,
   "id": "eccfef79-18db-4a4d-bc9c-e8d225197e1e",
   "metadata": {},
   "outputs": [
    {
     "name": "stderr",
     "output_type": "stream",
     "text": [
      "C:\\Users\\13170\\AppData\\Local\\Temp/ipykernel_5328/1764684016.py:1: FutureWarning: In a future version of pandas all arguments of DataFrame.drop except for the argument 'labels' will be keyword-only\n",
      "  df = df.drop('apturnover', 1)\n",
      "C:\\Users\\13170\\AppData\\Local\\Temp/ipykernel_5328/1764684016.py:2: FutureWarning: In a future version of pandas all arguments of DataFrame.drop except for the argument 'labels' will be keyword-only\n",
      "  df = df.drop('arturnover', 1)\n",
      "C:\\Users\\13170\\AppData\\Local\\Temp/ipykernel_5328/1764684016.py:3: FutureWarning: In a future version of pandas all arguments of DataFrame.drop except for the argument 'labels' will be keyword-only\n",
      "  df = df.drop('fcfftointerestex', 1)\n",
      "C:\\Users\\13170\\AppData\\Local\\Temp/ipykernel_5328/1764684016.py:4: FutureWarning: In a future version of pandas all arguments of DataFrame.drop except for the argument 'labels' will be keyword-only\n",
      "  df = df.drop('fcffgrowth', 1)\n",
      "C:\\Users\\13170\\AppData\\Local\\Temp/ipykernel_5328/1764684016.py:5: FutureWarning: In a future version of pandas all arguments of DataFrame.drop except for the argument 'labels' will be keyword-only\n",
      "  df = df.drop('croic', 1)\n",
      "C:\\Users\\13170\\AppData\\Local\\Temp/ipykernel_5328/1764684016.py:6: FutureWarning: In a future version of pandas all arguments of DataFrame.drop except for the argument 'labels' will be keyword-only\n",
      "  df = df.drop('grossmargin', 1)\n",
      "C:\\Users\\13170\\AppData\\Local\\Temp/ipykernel_5328/1764684016.py:7: FutureWarning: In a future version of pandas all arguments of DataFrame.drop except for the argument 'labels' will be keyword-only\n",
      "  df = df.drop('operatingmargin', 1)\n"
     ]
    }
   ],
   "source": [
    "df = df.drop('apturnover', 1)\n",
    "df = df.drop('arturnover', 1)\n",
    "df = df.drop('fcfftointerestex', 1)\n",
    "df = df.drop('fcffgrowth', 1)\n",
    "df = df.drop('croic', 1)\n",
    "df = df.drop('grossmargin', 1)\n",
    "df = df.drop('operatingmargin', 1)"
   ]
  },
  {
   "cell_type": "code",
   "execution_count": 68,
   "id": "03534fec-68cc-4cb6-aa2e-3e7a1bda68a6",
   "metadata": {},
   "outputs": [],
   "source": [
    "for index, row in df.iterrows():\n",
    "    if row['current_price'] <= row['ipo_price']*0.5 or row['security_delisted'] is True:\n",
    "        df.loc[index,'success'] = False\n",
    "    else:\n",
    "        df.loc[index,'success'] = True"
   ]
  },
  {
   "cell_type": "markdown",
   "id": "d1e3a6a3-4f08-451d-9ac3-046a3a13bc0e",
   "metadata": {},
   "source": [
    "Make sure to add the success column that judge the success company"
   ]
  },
  {
   "cell_type": "code",
   "execution_count": 71,
   "id": "a94d6513-28bc-4ac9-b534-e6c0bdfc81e6",
   "metadata": {},
   "outputs": [
    {
     "name": "stderr",
     "output_type": "stream",
     "text": [
      "C:\\Users\\13170\\AppData\\Local\\Temp/ipykernel_5328/114435927.py:1: FutureWarning: Dropping of nuisance columns in DataFrame reductions (with 'numeric_only=None') is deprecated; in a future version this will raise TypeError.  Select only valid columns before calling the reduction.\n",
      "  df = df.fillna(df.mean())\n"
     ]
    }
   ],
   "source": [
    "df = df.fillna(df.mean())"
   ]
  },
  {
   "cell_type": "markdown",
   "id": "2bbc1f2a-6b41-4086-a24f-098c19f18392",
   "metadata": {},
   "source": [
    "For all the missing metrics value using "
   ]
  },
  {
   "cell_type": "code",
   "execution_count": 73,
   "id": "43f86dbd-3d13-4583-bb89-6155ac549c06",
   "metadata": {},
   "outputs": [
    {
     "data": {
      "text/plain": [
       "Date                       0\n",
       "Symbol                     0\n",
       "assetturnover              0\n",
       "commontocap                0\n",
       "currentratio               0\n",
       "ebitdagrowth               0\n",
       "investedcapitalturnover    0\n",
       "leverageratio              0\n",
       "nnep                       0\n",
       "profitmargin               0\n",
       "roe_simple                 0\n",
       "stdebttocap                0\n",
       "enterprisevalue            0\n",
       "country                    0\n",
       "employees                  0\n",
       "security_delisted          0\n",
       "sic                        0\n",
       "ipo_price                  0\n",
       "current_price              0\n",
       "success                    0\n",
       "dtype: int64"
      ]
     },
     "execution_count": 73,
     "metadata": {},
     "output_type": "execute_result"
    }
   ],
   "source": [
    "df.isna().sum()"
   ]
  },
  {
   "cell_type": "markdown",
   "id": "89eb521e-d782-420d-bd4d-39d4e94e672a",
   "metadata": {},
   "source": [
    "Make sure no missing value left"
   ]
  },
  {
   "cell_type": "code",
   "execution_count": 80,
   "id": "96dadf66-916a-4436-9ae5-d5c1c27112d9",
   "metadata": {},
   "outputs": [],
   "source": [
    "le = preprocessing.LabelEncoder()\n",
    "le.fit(df['country'])\n",
    "df['country_label'] = le.transform(df['country'])"
   ]
  },
  {
   "cell_type": "markdown",
   "id": "f8f3170e-bc86-4cd2-b639-1f7b42d703d4",
   "metadata": {},
   "source": [
    "Encode country to their individual integer code"
   ]
  },
  {
   "cell_type": "code",
   "execution_count": 82,
   "id": "d094cf73-6994-4dda-a5e9-3648d3bf490d",
   "metadata": {},
   "outputs": [],
   "source": [
    "x = df[['assetturnover', 'commontocap', 'currentratio', 'ebitdagrowth', 'investedcapitalturnover', 'leverageratio', 'nnep', 'profitmargin', 'roe_simple', 'stdebttocap', 'enterprisevalue', 'country_label', 'employees']]\n",
    "y = df['success']"
   ]
  },
  {
   "cell_type": "code",
   "execution_count": 83,
   "id": "ea90023b-ed3c-4176-8944-305794c974c5",
   "metadata": {},
   "outputs": [],
   "source": [
    "x_train, x_test, y_train, y_test = train_test_split(x, y, test_size=0.2)"
   ]
  },
  {
   "cell_type": "code",
   "execution_count": 92,
   "id": "46670db5-6ce7-4a4e-a493-71866b1e7863",
   "metadata": {},
   "outputs": [
    {
     "data": {
      "text/plain": [
       "RandomForestClassifier()"
      ]
     },
     "execution_count": 92,
     "metadata": {},
     "output_type": "execute_result"
    }
   ],
   "source": [
    "clf=RandomForestClassifier(n_estimators=100)\n",
    "clf.fit(x_train,y_train)"
   ]
  },
  {
   "cell_type": "code",
   "execution_count": 93,
   "id": "6ac4ba5f-1bdd-40fa-874a-6e4a2d53df09",
   "metadata": {},
   "outputs": [],
   "source": [
    "y_pred=clf.predict(x_test)"
   ]
  },
  {
   "cell_type": "code",
   "execution_count": 94,
   "id": "1f82a5f2-2b02-46da-9854-e14e73d59702",
   "metadata": {},
   "outputs": [
    {
     "name": "stdout",
     "output_type": "stream",
     "text": [
      "Accuracy: 0.6098901098901099\n",
      "Recall: 0.5365853658536586\n",
      "Precision: 0.5714285714285714\n",
      "F1: 0.5534591194968553\n"
     ]
    }
   ],
   "source": [
    "print(\"Accuracy:\",metrics.accuracy_score(y_test, y_pred))\n",
    "print(\"Recall:\",metrics.recall_score(y_test, y_pred))\n",
    "print(\"Precision:\",metrics.precision_score(y_test, y_pred))\n",
    "print(\"F1:\",metrics.f1_score(y_test, y_pred))"
   ]
  },
  {
   "cell_type": "code",
   "execution_count": null,
   "id": "d9ddeb1c-f032-47b2-b92a-9b8aafa4b54f",
   "metadata": {},
   "outputs": [],
   "source": []
  }
 ],
 "metadata": {
  "kernelspec": {
   "display_name": "Python 3 (ipykernel)",
   "language": "python",
   "name": "python3"
  },
  "language_info": {
   "codemirror_mode": {
    "name": "ipython",
    "version": 3
   },
   "file_extension": ".py",
   "mimetype": "text/x-python",
   "name": "python",
   "nbconvert_exporter": "python",
   "pygments_lexer": "ipython3",
   "version": "3.10.1"
  }
 },
 "nbformat": 4,
 "nbformat_minor": 5
}
